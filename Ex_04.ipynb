{
  "nbformat": 4,
  "nbformat_minor": 0,
  "metadata": {
    "colab": {
      "name": "Ex_04.ipynb",
      "provenance": [],
      "authorship_tag": "ABX9TyNPCjFoXukU4BE7RJXokwDp",
      "include_colab_link": true
    },
    "kernelspec": {
      "name": "python3",
      "display_name": "Python 3"
    },
    "language_info": {
      "name": "python"
    }
  },
  "cells": [
    {
      "cell_type": "markdown",
      "metadata": {
        "id": "view-in-github",
        "colab_type": "text"
      },
      "source": [
        "<a href=\"https://colab.research.google.com/github/AlexsonT/Growdev/blob/main/Ex_04.ipynb\" target=\"_parent\"><img src=\"https://colab.research.google.com/assets/colab-badge.svg\" alt=\"Open In Colab\"/></a>"
      ]
    },
    {
      "cell_type": "code",
      "execution_count": null,
      "metadata": {
        "id": "qLLdfL6yuPOT"
      },
      "outputs": [],
      "source": [
        "# Utilize o dataset contido nesse link, e responda as questões abaixo. O\n",
        "# dataset contém dados estatísticos do IBGE relativos à escolaridade, renda entre\n",
        "# outros campos avaliados pela PNAD (Pesquisa Nacional por Amostra de\n",
        "# Domicílios). Os dados podem representar informações relevantes e reveladoras\n",
        "# sobre a distribuição de renda e possivelmente alguns indicadores sobre tais\n",
        "# situações encontradas a partir dos dados.\n",
        "\n",
        "# 1) Qual a quantidade de pessoas nas seguintes faixas etárias\n",
        "# a) 20 anos ou menos\n",
        "# b) 21 a 35 anos\n",
        "# c) 36 a 50 anos\n",
        "# d) 51 a 65 anos\n",
        "# e) maiores de 65 anos\n",
        "\n",
        "# 2) Qual é a média de escolaridade em cada faixa etária?\n",
        "\n",
        "# 3) Qual a UF que concentra a maior renda?\n",
        "\n",
        "# 4) Qual a renda média de pessoas pretas e brancas de homens e mulheres?\n",
        "\n",
        "# 5) Qual a renda média concentrada em cada faixa etária?\n",
        "\n",
        "# 6) Qual a renda média nas faixas de anos de estudo abaixo?\n",
        "# a) 2 anos ou menos\n",
        "# b) 3 a 6 anos\n",
        "# c) 7 a 10 anos\n",
        "# d) 10 a 12 anos\n",
        "# e) 13 anos ou mais\n",
        "\n",
        "# 7) Qual a maior escolaridade entre indígenas, para homens e mulheres?\n",
        "\n",
        "# 8) Qual a média de anos de estudo entre brancos e negros?\n",
        "\n",
        "# 9) Qual a média de anos de estudo e de renda para mulheres brancas, e para\n",
        "# mulheres negras?\n",
        "\n",
        "# 10) Qual é a UF com maior média de escolaridade e qual a UF com maior média\n",
        "# de renda?\n",
        "\n",
        "# 11)Elabore você uma pergunta sobre a base de dados e escreva o código para\n",
        "# responder a pergunta."
      ]
    }
  ]
}