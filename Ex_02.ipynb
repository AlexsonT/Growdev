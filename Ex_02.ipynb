{
  "nbformat": 4,
  "nbformat_minor": 0,
  "metadata": {
    "colab": {
      "name": "Ex_02.ipynb",
      "provenance": [],
      "authorship_tag": "ABX9TyOc0xkOQCl/W1wtgA7Ioxb4",
      "include_colab_link": true
    },
    "kernelspec": {
      "name": "python3",
      "display_name": "Python 3"
    },
    "language_info": {
      "name": "python"
    }
  },
  "cells": [
    {
      "cell_type": "markdown",
      "metadata": {
        "id": "view-in-github",
        "colab_type": "text"
      },
      "source": [
        "<a href=\"https://colab.research.google.com/github/AlexsonT/Growdev/blob/main/Ex_02.ipynb\" target=\"_parent\"><img src=\"https://colab.research.google.com/assets/colab-badge.svg\" alt=\"Open In Colab\"/></a>"
      ]
    },
    {
      "cell_type": "code",
      "execution_count": 6,
      "metadata": {
        "id": "xVC1QhBUM7Nv",
        "outputId": "94fed63c-8481-4763-dfdc-22dcdcb9a9e3",
        "colab": {
          "base_uri": "https://localhost:8080/"
        }
      },
      "outputs": [
        {
          "output_type": "stream",
          "name": "stdout",
          "text": [
            "[0 1 2 3 4 5 6 7 8 9]\n",
            "[0 1 2 3 4 8 6 7 8 9]\n"
          ]
        }
      ],
      "source": [
        "# 1) Como mudar os itens do array?\n",
        "import numpy as np\n",
        "\n",
        "arr = np.array([0, 1, 2, 3, 4, 5, 6, 7, 8, 9])\n",
        "print(arr)\n",
        "\n",
        "arr[5] = 8\n",
        "print(arr)"
      ]
    },
    {
      "cell_type": "code",
      "source": [
        "# 2) Como empilhar dois arrays verticalmente?\n",
        "#a = np.arange(10).reshape(2,-1)\n",
        "#b = np.repeat(1, 10).reshape(2,-1)\n",
        "# Saída desejada:\n",
        "# array([\n",
        "# [0, 1, 2, 3, 4],\n",
        "# [5, 6, 7, 8, 9],\n",
        "# [1, 1, 1, 1, 1],\n",
        "# [1, 1, 1, 1, 1]])\n",
        "\n",
        "a = np.arange(10).reshape(2,-1)\n",
        "b = np.repeat(1, 10).reshape(2,-1)\n",
        "\n",
        "c = np.concatenate((a,b))\n",
        "print(c)"
      ],
      "metadata": {
        "id": "NIX_1L_sPiIm",
        "outputId": "f0a8b87e-801d-4f5c-ac39-c2279e34fc35",
        "colab": {
          "base_uri": "https://localhost:8080/"
        }
      },
      "execution_count": 14,
      "outputs": [
        {
          "output_type": "stream",
          "name": "stdout",
          "text": [
            "[[0 1 2 3 4]\n",
            " [5 6 7 8 9]\n",
            " [1 1 1 1 1]\n",
            " [1 1 1 1 1]]\n"
          ]
        }
      ]
    },
    {
      "cell_type": "code",
      "source": [
        "# 3) Como empilhar dois arrays horizontalmente?\n",
        "a = np.arange(10).reshape(2,-1)\n",
        "b = np.repeat(1, 10).reshape(2,-1)\n",
        "# Saída desejada:\n",
        "# array([[0, 1, 2, 3, 4, 1, 1, 1, 1, 1],\n",
        "# [5, 6, 7, 8, 9, 1, 1, 1, 1, 1]])\n",
        "\n",
        "np.hstack((a,b))"
      ],
      "metadata": {
        "id": "639-C7UmPiXE",
        "outputId": "b068e2d2-b197-4998-910d-5b52b609dab6",
        "colab": {
          "base_uri": "https://localhost:8080/"
        }
      },
      "execution_count": 12,
      "outputs": [
        {
          "output_type": "execute_result",
          "data": {
            "text/plain": [
              "array([[0, 1, 2, 3, 4, 1, 1, 1, 1, 1],\n",
              "       [5, 6, 7, 8, 9, 1, 1, 1, 1, 1]])"
            ]
          },
          "metadata": {},
          "execution_count": 12
        }
      ]
    },
    {
      "cell_type": "code",
      "source": [
        "# 4) Como criar a seguinte sequência com numpy.\n",
        "# a = np.array([1,2,3])\n",
        "# Saída desejada:\n",
        "# # array([1, 1, 1, 2, 2, 2, 3, 3, 3, 1, 2, 3, 1, 2, 3, 1, 2, 3])\n",
        "\n",
        "a = np.array([1,2,3])\n",
        "\n",
        "print(a)\n"
      ],
      "metadata": {
        "id": "ZAI5kh6wPieE",
        "outputId": "a7023cfc-0c5d-4ef6-e48f-dd6708165347",
        "colab": {
          "base_uri": "https://localhost:8080/"
        }
      },
      "execution_count": 15,
      "outputs": [
        {
          "output_type": "stream",
          "name": "stdout",
          "text": [
            "[1 2 3]\n"
          ]
        }
      ]
    },
    {
      "cell_type": "code",
      "source": [
        "# 5) Como pegar os elementos em comum entre dois arrays?\n",
        "# Entrada:\n",
        "# a = np.array([1,2,3,2,3,4,3,4,5,6])\n",
        "\n",
        "# b = np.array([7,2,10,2,7,4,9,4,9,8])\n",
        "# Saída desejada:\n",
        "# array([2, 4])\n",
        "\n",
        "a = np.array([1,2,3,2,3,4,3,4,5,6])\n",
        "\n",
        "b = np.array([7,2,10,2,7,4,9,4,9,8])\n",
        "\n"
      ],
      "metadata": {
        "id": "YGMSt1l6PiiE"
      },
      "execution_count": null,
      "outputs": []
    },
    {
      "cell_type": "code",
      "source": [
        "# 6) Como pegar as posições de elementos iguais entre dois arrays?\n",
        "# Entrada:\n",
        "# a = np.array([1,2,3,2,3,4,3,4,5,6])\n",
        "# b = np.array([7,2,10,2,7,4,9,4,9,8])\n",
        "# Saída desejada:\n",
        "# (array([1, 3, 5, 7]),)"
      ],
      "metadata": {
        "id": "P9QTZOw1PiqE"
      },
      "execution_count": null,
      "outputs": []
    },
    {
      "cell_type": "code",
      "source": [
        "# 7) Como extrair todos os números em um intervalo desejado?\n",
        "# Entrada:\n",
        "# a = np.array([2, 6, 1, 9, 10, 3, 27])\n",
        "# Saída desejada:\n",
        "# (array([6, 9, 10]),)"
      ],
      "metadata": {
        "id": "8yM63PZ9Piy2"
      },
      "execution_count": null,
      "outputs": []
    },
    {
      "cell_type": "code",
      "source": [
        "# 8) Como transformar um array 2D em um array 1D, crie um array 2D com uma quantidade arbitrária de linhas e colunas e transforme em um array 1D."
      ],
      "metadata": {
        "id": "sRaY5DRPPi9M"
      },
      "execution_count": null,
      "outputs": []
    },
    {
      "cell_type": "code",
      "source": [
        "# 9) Crie uma ufunc para transformar uma imagem colorida em uma imagem em escala de cinza e aplique em um programa."
      ],
      "metadata": {
        "id": "VAj-XVTDQBpX"
      },
      "execution_count": null,
      "outputs": []
    },
    {
      "cell_type": "code",
      "source": [
        "# 10) O seguinte link contém imagens comparativas dos registros dos telescópios Hubble e James Webb de diferentes partes do cosmos. Faça o download das imagens de um dos registros escolhidos, carregue a imagem com o opencv, e realize os seguintes processamentos.\n",
        "# a) Crie e aplique filtros para exibir as imagens em cores vermelho, verde e azul separadamente, para que possamos observar esses espectros da luz visível separadamente.\n",
        "\n",
        "# b) Crie e aplique um filtro que procure exibir somente (ou quase isso) os pontos mais brilhantes da imagem (normalmente estrelas ou galáxias)"
      ],
      "metadata": {
        "id": "Rx47QREJQBsm"
      },
      "execution_count": null,
      "outputs": []
    }
  ]
}