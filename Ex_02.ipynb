{
  "nbformat": 4,
  "nbformat_minor": 0,
  "metadata": {
    "colab": {
      "name": "Ex_02.ipynb",
      "provenance": [],
      "authorship_tag": "ABX9TyMOt0GajmYMsFzAnpLHJqSy",
      "include_colab_link": true
    },
    "kernelspec": {
      "name": "python3",
      "display_name": "Python 3"
    },
    "language_info": {
      "name": "python"
    }
  },
  "cells": [
    {
      "cell_type": "markdown",
      "metadata": {
        "id": "view-in-github",
        "colab_type": "text"
      },
      "source": [
        "<a href=\"https://colab.research.google.com/github/AlexsonT/Growdev/blob/main/Ex_02.ipynb\" target=\"_parent\"><img src=\"https://colab.research.google.com/assets/colab-badge.svg\" alt=\"Open In Colab\"/></a>"
      ]
    },
    {
      "cell_type": "code",
      "execution_count": 4,
      "metadata": {
        "id": "xVC1QhBUM7Nv",
        "colab": {
          "base_uri": "https://localhost:8080/"
        },
        "outputId": "0b4e8655-1048-4c48-b40a-4f17020e0b0b"
      },
      "outputs": [
        {
          "output_type": "stream",
          "name": "stdout",
          "text": [
            "[0 1 2 3 4 5 6 7 8 9]\n",
            "[0 1 2 3 4 8 6 7 8 9]\n"
          ]
        }
      ],
      "source": [
        "# 1) Como mudar os itens do array?\n",
        "import numpy as np\n",
        "\n",
        "arr = np.array([0, 1, 2, 3, 4, 5, 6, 7, 8, 9])\n",
        "print(arr)\n",
        "\n",
        "arr[5] = 8\n",
        "print(arr)"
      ]
    },
    {
      "cell_type": "code",
      "source": [
        "# 2) Como empilhar dois arrays verticalmente?\n",
        "#a = np.arange(10).reshape(2,-1)\n",
        "#b = np.repeat(1, 10).reshape(2,-1)\n",
        "# Saída desejada:\n",
        "# array([\n",
        "# [0, 1, 2, 3, 4],\n",
        "# [5, 6, 7, 8, 9],\n",
        "# [1, 1, 1, 1, 1],\n",
        "# [1, 1, 1, 1, 1]])\n",
        "\n",
        "a = np.arange(10).reshape(2,-1)\n",
        "b = np.repeat(1, 10).reshape(2,-1)\n",
        "\n",
        "c = np.concatenate((a,b))\n",
        "print(c)"
      ],
      "metadata": {
        "id": "NIX_1L_sPiIm",
        "colab": {
          "base_uri": "https://localhost:8080/"
        },
        "outputId": "f0a8b87e-801d-4f5c-ac39-c2279e34fc35"
      },
      "execution_count": null,
      "outputs": [
        {
          "output_type": "stream",
          "name": "stdout",
          "text": [
            "[[0 1 2 3 4]\n",
            " [5 6 7 8 9]\n",
            " [1 1 1 1 1]\n",
            " [1 1 1 1 1]]\n"
          ]
        }
      ]
    },
    {
      "cell_type": "code",
      "source": [
        "# 3) Como empilhar dois arrays horizontalmente?\n",
        "a = np.arange(10).reshape(2,-1)\n",
        "b = np.repeat(1, 10).reshape(2,-1)\n",
        "# Saída desejada:\n",
        "# array([[0, 1, 2, 3, 4, 1, 1, 1, 1, 1],\n",
        "# [5, 6, 7, 8, 9, 1, 1, 1, 1, 1]])\n",
        "\n",
        "np.hstack((a,b))"
      ],
      "metadata": {
        "id": "639-C7UmPiXE",
        "colab": {
          "base_uri": "https://localhost:8080/"
        },
        "outputId": "b068e2d2-b197-4998-910d-5b52b609dab6"
      },
      "execution_count": null,
      "outputs": [
        {
          "output_type": "execute_result",
          "data": {
            "text/plain": [
              "array([[0, 1, 2, 3, 4, 1, 1, 1, 1, 1],\n",
              "       [5, 6, 7, 8, 9, 1, 1, 1, 1, 1]])"
            ]
          },
          "metadata": {},
          "execution_count": 12
        }
      ]
    },
    {
      "cell_type": "code",
      "source": [
        "# 4) Como criar a seguinte sequência com numpy.\n",
        "# a = np.array([1,2,3])\n",
        "# Saída desejada:\n",
        "# # array([1, 1, 1, 2, 2, 2, 3, 3, 3, 1, 2, 3, 1, 2, 3, 1, 2, 3])\n",
        "\n",
        "a = np.array([1,2,3])\n",
        "\n",
        "b = np.repeat(a, 3 , axis = None)\n",
        "c = np.tile(a, 3)\n",
        "\n",
        "d = np.concatenate((b,c))\n",
        "\n",
        "print(d)"
      ],
      "metadata": {
        "id": "ZAI5kh6wPieE",
        "colab": {
          "base_uri": "https://localhost:8080/"
        },
        "outputId": "bd96275e-5afe-4180-9e48-f123a1f6579f"
      },
      "execution_count": null,
      "outputs": [
        {
          "output_type": "stream",
          "name": "stdout",
          "text": [
            "[1 1 1 2 2 2 3 3 3 1 2 3 1 2 3 1 2 3]\n"
          ]
        }
      ]
    },
    {
      "cell_type": "code",
      "source": [
        "# 5) Como pegar os elementos em comum entre dois arrays?\n",
        "# Entrada:\n",
        "# a = np.array([1,2,3,2,3,4,3,4,5,6])\n",
        "\n",
        "# b = np.array([7,2,10,2,7,4,9,4,9,8])\n",
        "# Saída desejada:\n",
        "# array([2, 4])\n",
        "\n",
        "a = np.array([1,2,3,2,3,4,3,4,5,6])\n",
        "b = np.array([7,2,10,2,7,4,9,4,9,8])\n",
        "\n",
        "c = np.intersect1d(a, b)\n",
        "print(c)"
      ],
      "metadata": {
        "id": "YGMSt1l6PiiE",
        "colab": {
          "base_uri": "https://localhost:8080/"
        },
        "outputId": "8aa400f3-1189-46d4-f1ec-934a3dc93de9"
      },
      "execution_count": null,
      "outputs": [
        {
          "output_type": "stream",
          "name": "stdout",
          "text": [
            "[2 4]\n"
          ]
        }
      ]
    },
    {
      "cell_type": "code",
      "source": [
        "# 6) Como pegar as posições de elementos iguais entre dois arrays?\n",
        "# Entrada:\n",
        "# a = np.array([1,2,3,2,3,4,3,4,5,6])\n",
        "# b = np.array([7,2,10,2,7,4,9,4,9,8])\n",
        "# Saída desejada:\n",
        "# (array([1, 3, 5, 7]),)\n",
        "\n",
        "a = np.array([1,2,3,2,3,4,3,4,5,6])\n",
        "b = np.array([7,2,10,2,7,4,9,4,9,8])\n",
        "\n",
        "c = np.where(a == b)\n",
        "\n",
        "print(c)"
      ],
      "metadata": {
        "id": "P9QTZOw1PiqE",
        "colab": {
          "base_uri": "https://localhost:8080/"
        },
        "outputId": "cf33c30d-69aa-4812-d967-9e292ab48168"
      },
      "execution_count": null,
      "outputs": [
        {
          "output_type": "stream",
          "name": "stdout",
          "text": [
            "(array([1, 3, 5, 7]),)\n"
          ]
        }
      ]
    },
    {
      "cell_type": "code",
      "source": [
        "# 7) Como extrair todos os números em um intervalo desejado?\n",
        "# Entrada:\n",
        "# a = np.array([2, 6, 1, 9, 10, 3, 27])\n",
        "# Saída desejada:\n",
        "# (array([6, 9, 10]),)\n",
        "\n",
        "a = np.array([2, 6, 1, 9, 10, 3, 27])\n",
        "\n",
        "b = a[np.array([1, 3, 4])]\n",
        "\n",
        "print(b)"
      ],
      "metadata": {
        "id": "8yM63PZ9Piy2",
        "colab": {
          "base_uri": "https://localhost:8080/"
        },
        "outputId": "700f723f-316f-4a07-8501-cd253cba038c"
      },
      "execution_count": null,
      "outputs": [
        {
          "output_type": "stream",
          "name": "stdout",
          "text": [
            "[ 6  9 10]\n"
          ]
        }
      ]
    },
    {
      "cell_type": "code",
      "source": [
        "# 8) Como transformar um array 2D em um array 1D, crie um array 2D com uma quantidade arbitrária de linhas e colunas e transforme em um array 1D.\n",
        "\n",
        "array2d = np.arange(8).reshape(2,-1)\n",
        "\n",
        "array1d = a.flatten()\n",
        "\n",
        "print(array2d)\n",
        "print(array1d)"
      ],
      "metadata": {
        "id": "sRaY5DRPPi9M",
        "outputId": "7b92f93c-33dd-451e-c3ab-3f73ecb11d27",
        "colab": {
          "base_uri": "https://localhost:8080/"
        }
      },
      "execution_count": 11,
      "outputs": [
        {
          "output_type": "stream",
          "name": "stdout",
          "text": [
            "[[0 1 2 3]\n",
            " [4 5 6 7]]\n",
            "[0 1 2 3 4 5 6 7]\n"
          ]
        }
      ]
    },
    {
      "cell_type": "code",
      "source": [
        "# 9) Crie uma ufunc para transformar uma imagem colorida em uma imagem em escala de cinza e aplique em um programa.\n",
        "\n"
      ],
      "metadata": {
        "id": "VAj-XVTDQBpX"
      },
      "execution_count": null,
      "outputs": []
    },
    {
      "cell_type": "code",
      "source": [
        "# 10) O seguinte link contém imagens comparativas dos registros dos telescópios Hubble e James Webb de diferentes partes do cosmos. Faça o download das imagens de um dos registros escolhidos, carregue a imagem com o opencv, e realize os seguintes processamentos.\n",
        "# a) Crie e aplique filtros para exibir as imagens em cores vermelho, verde e azul separadamente, para que possamos observar esses espectros da luz visível separadamente.\n",
        "\n",
        "# b) Crie e aplique um filtro que procure exibir somente (ou quase isso) os pontos mais brilhantes da imagem (normalmente estrelas ou galáxias)"
      ],
      "metadata": {
        "id": "Rx47QREJQBsm"
      },
      "execution_count": null,
      "outputs": []
    }
  ]
}