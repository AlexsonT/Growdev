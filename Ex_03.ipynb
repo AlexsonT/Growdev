{
  "nbformat": 4,
  "nbformat_minor": 0,
  "metadata": {
    "colab": {
      "name": "Ex_03.ipynb",
      "provenance": [],
      "authorship_tag": "ABX9TyPjB8bRb5h5TFKv05STFqra",
      "include_colab_link": true
    },
    "kernelspec": {
      "name": "python3",
      "display_name": "Python 3"
    },
    "language_info": {
      "name": "python"
    }
  },
  "cells": [
    {
      "cell_type": "markdown",
      "metadata": {
        "id": "view-in-github",
        "colab_type": "text"
      },
      "source": [
        "<a href=\"https://colab.research.google.com/github/AlexsonT/Growdev/blob/main/Ex_03.ipynb\" target=\"_parent\"><img src=\"https://colab.research.google.com/assets/colab-badge.svg\" alt=\"Open In Colab\"/></a>"
      ]
    },
    {
      "cell_type": "code",
      "execution_count": null,
      "metadata": {
        "id": "hu_BQd6m5fqO"
      },
      "outputs": [],
      "source": [
        "# As questões a seguir utilizam como base o dataset de venda de jogos eletrônicos disponível no seguinte link.\n",
        "\n",
        "# Os campos são:\n",
        "# Rank: posição no ranking de vendas\n",
        "# Name: nome do jogo\n",
        "# Platform: plataforma/console\n",
        "# Year: ano de lançamento\n",
        "# Genre: gênero\n",
        "# Publisher: empresa que publicou o jogo\n",
        "# NA_Sales: vendas na américa do norte (em milhões de dólares)\n",
        "# EU_Sales: vendas na europa (em milhões de dólares)\n",
        "# JP_Sales: vendas no japão (em milhões de dólares)\n",
        "# Other_Sales: outras vendas (em milhões de dólares)\n",
        "# Global_Sales: vendas globais (em milhões de dólares)\n",
        "\n",
        "\n",
        "# 6) Qual foi o ano com mais lançamentos de jogos?\n",
        "# 7) Qual a plataforma que menos lançou jogos?\n",
        "# 8) Qual plataforma que mais gerou lucros com jogos do gênero Action desde 2009?\n",
        "# 9) Qual empresa teve o maior lucro (sob o teto de 0.35 milhões) de 1980 até 1995, excluindo-se a plataforma SNES.\n",
        "# 10)A empresa que mais lucrou no Japão em 2003 é a mesma que mais lucrou na europa nesse mesmo ano?\n",
        "# 11)Qual o percentual relacionado às vendas globais de jogos de Wii (excluindo-se América do norte, japão e europa) de 2006 até 2010?\n",
        "# 12)Mostre um gráfico de linhas com as vendas em diferentes plataformas ao longo dos anos.\n",
        "# 13)Mostre um gráfico de pizza com o percentual de vendas dos diferentes gêneros de jogos."
      ]
    },
    {
      "cell_type": "code",
      "source": [
        "#IMPORTS\n",
        "import pandas as pd\n",
        "import numpy as np"
      ],
      "metadata": {
        "id": "LzYZBmu47tg3"
      },
      "execution_count": 3,
      "outputs": []
    },
    {
      "cell_type": "code",
      "source": [
        "#READING THE DATASET\n",
        "data = pd.read_csv('vgsales.csv', encoding = 'UTF-8', sep = ',', header = 0)\n",
        "\n",
        "data.head()"
      ],
      "metadata": {
        "colab": {
          "base_uri": "https://localhost:8080/",
          "height": 206
        },
        "id": "_XrFQq0x8QA-",
        "outputId": "8b509c8e-ac89-46f4-e5fa-0afc2cdb8ebd"
      },
      "execution_count": 56,
      "outputs": [
        {
          "output_type": "execute_result",
          "data": {
            "text/plain": [
              "   Rank             Name Platform  Year     Genre   Publisher  NA_Sales  \\\n",
              "0   259        Asteroids     2600  1980   Shooter       Atari      4.00   \n",
              "1   545  Missile Command     2600  1980   Shooter       Atari      2.56   \n",
              "2  1768          Kaboom!     2600  1980      Misc  Activision      1.07   \n",
              "3  1971         Defender     2600  1980      Misc       Atari      0.99   \n",
              "4  2671           Boxing     2600  1980  Fighting  Activision      0.72   \n",
              "\n",
              "   EU_Sales  JP_Sales  Other_Sales  Global_Sales  \n",
              "0      0.26       0.0         0.05          4.31  \n",
              "1      0.17       0.0         0.03          2.76  \n",
              "2      0.07       0.0         0.01          1.15  \n",
              "3      0.05       0.0         0.01          1.05  \n",
              "4      0.04       0.0         0.01          0.77  "
            ],
            "text/html": [
              "\n",
              "  <div id=\"df-b8fc7e8d-53e6-4c12-9836-92c73396793b\">\n",
              "    <div class=\"colab-df-container\">\n",
              "      <div>\n",
              "<style scoped>\n",
              "    .dataframe tbody tr th:only-of-type {\n",
              "        vertical-align: middle;\n",
              "    }\n",
              "\n",
              "    .dataframe tbody tr th {\n",
              "        vertical-align: top;\n",
              "    }\n",
              "\n",
              "    .dataframe thead th {\n",
              "        text-align: right;\n",
              "    }\n",
              "</style>\n",
              "<table border=\"1\" class=\"dataframe\">\n",
              "  <thead>\n",
              "    <tr style=\"text-align: right;\">\n",
              "      <th></th>\n",
              "      <th>Rank</th>\n",
              "      <th>Name</th>\n",
              "      <th>Platform</th>\n",
              "      <th>Year</th>\n",
              "      <th>Genre</th>\n",
              "      <th>Publisher</th>\n",
              "      <th>NA_Sales</th>\n",
              "      <th>EU_Sales</th>\n",
              "      <th>JP_Sales</th>\n",
              "      <th>Other_Sales</th>\n",
              "      <th>Global_Sales</th>\n",
              "    </tr>\n",
              "  </thead>\n",
              "  <tbody>\n",
              "    <tr>\n",
              "      <th>0</th>\n",
              "      <td>259</td>\n",
              "      <td>Asteroids</td>\n",
              "      <td>2600</td>\n",
              "      <td>1980</td>\n",
              "      <td>Shooter</td>\n",
              "      <td>Atari</td>\n",
              "      <td>4.00</td>\n",
              "      <td>0.26</td>\n",
              "      <td>0.0</td>\n",
              "      <td>0.05</td>\n",
              "      <td>4.31</td>\n",
              "    </tr>\n",
              "    <tr>\n",
              "      <th>1</th>\n",
              "      <td>545</td>\n",
              "      <td>Missile Command</td>\n",
              "      <td>2600</td>\n",
              "      <td>1980</td>\n",
              "      <td>Shooter</td>\n",
              "      <td>Atari</td>\n",
              "      <td>2.56</td>\n",
              "      <td>0.17</td>\n",
              "      <td>0.0</td>\n",
              "      <td>0.03</td>\n",
              "      <td>2.76</td>\n",
              "    </tr>\n",
              "    <tr>\n",
              "      <th>2</th>\n",
              "      <td>1768</td>\n",
              "      <td>Kaboom!</td>\n",
              "      <td>2600</td>\n",
              "      <td>1980</td>\n",
              "      <td>Misc</td>\n",
              "      <td>Activision</td>\n",
              "      <td>1.07</td>\n",
              "      <td>0.07</td>\n",
              "      <td>0.0</td>\n",
              "      <td>0.01</td>\n",
              "      <td>1.15</td>\n",
              "    </tr>\n",
              "    <tr>\n",
              "      <th>3</th>\n",
              "      <td>1971</td>\n",
              "      <td>Defender</td>\n",
              "      <td>2600</td>\n",
              "      <td>1980</td>\n",
              "      <td>Misc</td>\n",
              "      <td>Atari</td>\n",
              "      <td>0.99</td>\n",
              "      <td>0.05</td>\n",
              "      <td>0.0</td>\n",
              "      <td>0.01</td>\n",
              "      <td>1.05</td>\n",
              "    </tr>\n",
              "    <tr>\n",
              "      <th>4</th>\n",
              "      <td>2671</td>\n",
              "      <td>Boxing</td>\n",
              "      <td>2600</td>\n",
              "      <td>1980</td>\n",
              "      <td>Fighting</td>\n",
              "      <td>Activision</td>\n",
              "      <td>0.72</td>\n",
              "      <td>0.04</td>\n",
              "      <td>0.0</td>\n",
              "      <td>0.01</td>\n",
              "      <td>0.77</td>\n",
              "    </tr>\n",
              "  </tbody>\n",
              "</table>\n",
              "</div>\n",
              "      <button class=\"colab-df-convert\" onclick=\"convertToInteractive('df-b8fc7e8d-53e6-4c12-9836-92c73396793b')\"\n",
              "              title=\"Convert this dataframe to an interactive table.\"\n",
              "              style=\"display:none;\">\n",
              "        \n",
              "  <svg xmlns=\"http://www.w3.org/2000/svg\" height=\"24px\"viewBox=\"0 0 24 24\"\n",
              "       width=\"24px\">\n",
              "    <path d=\"M0 0h24v24H0V0z\" fill=\"none\"/>\n",
              "    <path d=\"M18.56 5.44l.94 2.06.94-2.06 2.06-.94-2.06-.94-.94-2.06-.94 2.06-2.06.94zm-11 1L8.5 8.5l.94-2.06 2.06-.94-2.06-.94L8.5 2.5l-.94 2.06-2.06.94zm10 10l.94 2.06.94-2.06 2.06-.94-2.06-.94-.94-2.06-.94 2.06-2.06.94z\"/><path d=\"M17.41 7.96l-1.37-1.37c-.4-.4-.92-.59-1.43-.59-.52 0-1.04.2-1.43.59L10.3 9.45l-7.72 7.72c-.78.78-.78 2.05 0 2.83L4 21.41c.39.39.9.59 1.41.59.51 0 1.02-.2 1.41-.59l7.78-7.78 2.81-2.81c.8-.78.8-2.07 0-2.86zM5.41 20L4 18.59l7.72-7.72 1.47 1.35L5.41 20z\"/>\n",
              "  </svg>\n",
              "      </button>\n",
              "      \n",
              "  <style>\n",
              "    .colab-df-container {\n",
              "      display:flex;\n",
              "      flex-wrap:wrap;\n",
              "      gap: 12px;\n",
              "    }\n",
              "\n",
              "    .colab-df-convert {\n",
              "      background-color: #E8F0FE;\n",
              "      border: none;\n",
              "      border-radius: 50%;\n",
              "      cursor: pointer;\n",
              "      display: none;\n",
              "      fill: #1967D2;\n",
              "      height: 32px;\n",
              "      padding: 0 0 0 0;\n",
              "      width: 32px;\n",
              "    }\n",
              "\n",
              "    .colab-df-convert:hover {\n",
              "      background-color: #E2EBFA;\n",
              "      box-shadow: 0px 1px 2px rgba(60, 64, 67, 0.3), 0px 1px 3px 1px rgba(60, 64, 67, 0.15);\n",
              "      fill: #174EA6;\n",
              "    }\n",
              "\n",
              "    [theme=dark] .colab-df-convert {\n",
              "      background-color: #3B4455;\n",
              "      fill: #D2E3FC;\n",
              "    }\n",
              "\n",
              "    [theme=dark] .colab-df-convert:hover {\n",
              "      background-color: #434B5C;\n",
              "      box-shadow: 0px 1px 3px 1px rgba(0, 0, 0, 0.15);\n",
              "      filter: drop-shadow(0px 1px 2px rgba(0, 0, 0, 0.3));\n",
              "      fill: #FFFFFF;\n",
              "    }\n",
              "  </style>\n",
              "\n",
              "      <script>\n",
              "        const buttonEl =\n",
              "          document.querySelector('#df-b8fc7e8d-53e6-4c12-9836-92c73396793b button.colab-df-convert');\n",
              "        buttonEl.style.display =\n",
              "          google.colab.kernel.accessAllowed ? 'block' : 'none';\n",
              "\n",
              "        async function convertToInteractive(key) {\n",
              "          const element = document.querySelector('#df-b8fc7e8d-53e6-4c12-9836-92c73396793b');\n",
              "          const dataTable =\n",
              "            await google.colab.kernel.invokeFunction('convertToInteractive',\n",
              "                                                     [key], {});\n",
              "          if (!dataTable) return;\n",
              "\n",
              "          const docLinkHtml = 'Like what you see? Visit the ' +\n",
              "            '<a target=\"_blank\" href=https://colab.research.google.com/notebooks/data_table.ipynb>data table notebook</a>'\n",
              "            + ' to learn more about interactive tables.';\n",
              "          element.innerHTML = '';\n",
              "          dataTable['output_type'] = 'display_data';\n",
              "          await google.colab.output.renderOutput(dataTable, element);\n",
              "          const docLink = document.createElement('div');\n",
              "          docLink.innerHTML = docLinkHtml;\n",
              "          element.appendChild(docLink);\n",
              "        }\n",
              "      </script>\n",
              "    </div>\n",
              "  </div>\n",
              "  "
            ]
          },
          "metadata": {},
          "execution_count": 56
        }
      ]
    },
    {
      "cell_type": "code",
      "source": [
        "# 1) Qual foi o jogo mais vendido no mundo em 2010?\n",
        "\n",
        "# info = data['Year'].value_counts()\n",
        "\n",
        "# display(info)\n",
        "\n",
        "print(data.explode('Year').value_counts())\n"
      ],
      "metadata": {
        "colab": {
          "base_uri": "https://localhost:8080/"
        },
        "id": "1qPRhzfz9gxM",
        "outputId": "e867c272-58cd-4761-b468-70d179fca737"
      },
      "execution_count": 62,
      "outputs": [
        {
          "output_type": "stream",
          "name": "stdout",
          "text": [
            "Rank   Name                                        Platform  Year  Genre     Publisher                     NA_Sales  EU_Sales  JP_Sales  Other_Sales  Global_Sales\n",
            "1      Wii Sports                                  Wii       2006  Sports    Nintendo                      41.49     29.02     3.77      8.46         82.74           1\n",
            "11060  Porsche Challenge                           PS        1997  Racing    Sony Computer Entertainment   0.05      0.03      0.00      0.01         0.09            1\n",
            "11047  V-Rally Edition 99                          N64       1998  Racing    Infogrames                    0.07      0.02      0.00      0.00         0.09            1\n",
            "11048  Saikyou Habu Shogi                          N64       1996  Misc      Seta Corporation              0.00      0.00      0.06      0.03         0.09            1\n",
            "11049  Castlevania Dracula X                       SNES      1995  Platform  Konami Digital Entertainment  0.03      0.01      0.05      0.00         0.09            1\n",
            "                                                                                                                                                                     ..\n",
            "5521   Phineas and Ferb: Across the 2nd Dimension  PS3       2011  Action    Disney Interactive Studios    0.15      0.12      0.00      0.05         0.33            1\n",
            "5522   Call Of Duty 2: Big Red One                 GC        2005  Shooter   Activision                    0.25      0.07      0.00      0.01         0.33            1\n",
            "5523   Elebits                                     Wii       2006  Action    Konami Digital Entertainment  0.22      0.01      0.08      0.02         0.33            1\n",
            "5524   Warhammer 40,000: Squad Command             PSP       2007  Strategy  THQ                           0.11      0.14      0.00      0.08         0.33            1\n",
            "16600  Spirits & Spells                            GBA       2003  Platform  Wanadoo                       0.01      0.00      0.00      0.00         0.01            1\n",
            "Length: 16288, dtype: int64\n"
          ]
        }
      ]
    },
    {
      "cell_type": "code",
      "source": [
        "# 2) Qual foi o gênero mais vendido na américa do norte em 2005"
      ],
      "metadata": {
        "id": "tmLvOjNt-e1A"
      },
      "execution_count": 49,
      "outputs": []
    },
    {
      "cell_type": "code",
      "source": [
        "# 3) Qual foi a empresa que mais vendeu de 2005 até 2016"
      ],
      "metadata": {
        "id": "9QhNI2rQSz1w"
      },
      "execution_count": 50,
      "outputs": []
    },
    {
      "cell_type": "code",
      "source": [
        "# 4) Qual o nome do jogo que menos foi vendido em 2008 do gênero Sports."
      ],
      "metadata": {
        "id": "25yCrLUDS50U"
      },
      "execution_count": 51,
      "outputs": []
    },
    {
      "cell_type": "code",
      "source": [
        "# 5) Mostre um gráfico com o total de vendas por ano."
      ],
      "metadata": {
        "id": "2L6rapXmS-4o"
      },
      "execution_count": null,
      "outputs": []
    }
  ]
}