{
  "nbformat": 4,
  "nbformat_minor": 0,
  "metadata": {
    "colab": {
      "name": "Ex_03.ipynb",
      "provenance": [],
      "authorship_tag": "ABX9TyNl2v45mStc8ebFkUgucjfG",
      "include_colab_link": true
    },
    "kernelspec": {
      "name": "python3",
      "display_name": "Python 3"
    },
    "language_info": {
      "name": "python"
    }
  },
  "cells": [
    {
      "cell_type": "markdown",
      "metadata": {
        "id": "view-in-github",
        "colab_type": "text"
      },
      "source": [
        "<a href=\"https://colab.research.google.com/github/AlexsonT/Growdev/blob/main/Ex_03.ipynb\" target=\"_parent\"><img src=\"https://colab.research.google.com/assets/colab-badge.svg\" alt=\"Open In Colab\"/></a>"
      ]
    },
    {
      "cell_type": "code",
      "execution_count": null,
      "metadata": {
        "id": "hu_BQd6m5fqO"
      },
      "outputs": [],
      "source": [
        "# As questões a seguir utilizam como base o dataset de venda de jogos eletrônicos disponível no seguinte link.\n",
        "\n",
        "# Os campos são:\n",
        "# Rank: posição no ranking de vendas\n",
        "# Name: nome do jogo\n",
        "# Platform: plataforma/console\n",
        "# Year: ano de lançamento\n",
        "# Genre: gênero\n",
        "# Publisher: empresa que publicou o jogo\n",
        "# NA_Sales: vendas na américa do norte (em milhões de dólares)\n",
        "# EU_Sales: vendas na europa (em milhões de dólares)\n",
        "# JP_Sales: vendas no japão (em milhões de dólares)\n",
        "# Other_Sales: outras vendas (em milhões de dólares)\n",
        "# Global_Sales: vendas globais (em milhões de dólares)"
      ]
    },
    {
      "cell_type": "code",
      "source": [
        "#IMPORTS\n",
        "import pandas as pd\n",
        "import numpy as np\n",
        "import matplotlib.pyplot as plt"
      ],
      "metadata": {
        "id": "LzYZBmu47tg3"
      },
      "execution_count": 1,
      "outputs": []
    },
    {
      "cell_type": "code",
      "source": [
        "#READING THE DATASET\n",
        "data = pd.read_csv('vgsales.csv', encoding = 'UTF-8', sep = ',', header = 0)\n",
        "\n",
        "data.head()"
      ],
      "metadata": {
        "colab": {
          "base_uri": "https://localhost:8080/",
          "height": 206
        },
        "id": "_XrFQq0x8QA-",
        "outputId": "5498a9fe-5386-4906-d18c-e4f17ed1f776"
      },
      "execution_count": 2,
      "outputs": [
        {
          "output_type": "execute_result",
          "data": {
            "text/plain": [
              "   Rank             Name Platform  Year     Genre   Publisher  NA_Sales  \\\n",
              "0   259        Asteroids     2600  1980   Shooter       Atari      4.00   \n",
              "1   545  Missile Command     2600  1980   Shooter       Atari      2.56   \n",
              "2  1768          Kaboom!     2600  1980      Misc  Activision      1.07   \n",
              "3  1971         Defender     2600  1980      Misc       Atari      0.99   \n",
              "4  2671           Boxing     2600  1980  Fighting  Activision      0.72   \n",
              "\n",
              "   EU_Sales  JP_Sales  Other_Sales  Global_Sales  \n",
              "0      0.26       0.0         0.05          4.31  \n",
              "1      0.17       0.0         0.03          2.76  \n",
              "2      0.07       0.0         0.01          1.15  \n",
              "3      0.05       0.0         0.01          1.05  \n",
              "4      0.04       0.0         0.01          0.77  "
            ],
            "text/html": [
              "\n",
              "  <div id=\"df-657c524d-a6b1-4f58-9df9-617db470f303\">\n",
              "    <div class=\"colab-df-container\">\n",
              "      <div>\n",
              "<style scoped>\n",
              "    .dataframe tbody tr th:only-of-type {\n",
              "        vertical-align: middle;\n",
              "    }\n",
              "\n",
              "    .dataframe tbody tr th {\n",
              "        vertical-align: top;\n",
              "    }\n",
              "\n",
              "    .dataframe thead th {\n",
              "        text-align: right;\n",
              "    }\n",
              "</style>\n",
              "<table border=\"1\" class=\"dataframe\">\n",
              "  <thead>\n",
              "    <tr style=\"text-align: right;\">\n",
              "      <th></th>\n",
              "      <th>Rank</th>\n",
              "      <th>Name</th>\n",
              "      <th>Platform</th>\n",
              "      <th>Year</th>\n",
              "      <th>Genre</th>\n",
              "      <th>Publisher</th>\n",
              "      <th>NA_Sales</th>\n",
              "      <th>EU_Sales</th>\n",
              "      <th>JP_Sales</th>\n",
              "      <th>Other_Sales</th>\n",
              "      <th>Global_Sales</th>\n",
              "    </tr>\n",
              "  </thead>\n",
              "  <tbody>\n",
              "    <tr>\n",
              "      <th>0</th>\n",
              "      <td>259</td>\n",
              "      <td>Asteroids</td>\n",
              "      <td>2600</td>\n",
              "      <td>1980</td>\n",
              "      <td>Shooter</td>\n",
              "      <td>Atari</td>\n",
              "      <td>4.00</td>\n",
              "      <td>0.26</td>\n",
              "      <td>0.0</td>\n",
              "      <td>0.05</td>\n",
              "      <td>4.31</td>\n",
              "    </tr>\n",
              "    <tr>\n",
              "      <th>1</th>\n",
              "      <td>545</td>\n",
              "      <td>Missile Command</td>\n",
              "      <td>2600</td>\n",
              "      <td>1980</td>\n",
              "      <td>Shooter</td>\n",
              "      <td>Atari</td>\n",
              "      <td>2.56</td>\n",
              "      <td>0.17</td>\n",
              "      <td>0.0</td>\n",
              "      <td>0.03</td>\n",
              "      <td>2.76</td>\n",
              "    </tr>\n",
              "    <tr>\n",
              "      <th>2</th>\n",
              "      <td>1768</td>\n",
              "      <td>Kaboom!</td>\n",
              "      <td>2600</td>\n",
              "      <td>1980</td>\n",
              "      <td>Misc</td>\n",
              "      <td>Activision</td>\n",
              "      <td>1.07</td>\n",
              "      <td>0.07</td>\n",
              "      <td>0.0</td>\n",
              "      <td>0.01</td>\n",
              "      <td>1.15</td>\n",
              "    </tr>\n",
              "    <tr>\n",
              "      <th>3</th>\n",
              "      <td>1971</td>\n",
              "      <td>Defender</td>\n",
              "      <td>2600</td>\n",
              "      <td>1980</td>\n",
              "      <td>Misc</td>\n",
              "      <td>Atari</td>\n",
              "      <td>0.99</td>\n",
              "      <td>0.05</td>\n",
              "      <td>0.0</td>\n",
              "      <td>0.01</td>\n",
              "      <td>1.05</td>\n",
              "    </tr>\n",
              "    <tr>\n",
              "      <th>4</th>\n",
              "      <td>2671</td>\n",
              "      <td>Boxing</td>\n",
              "      <td>2600</td>\n",
              "      <td>1980</td>\n",
              "      <td>Fighting</td>\n",
              "      <td>Activision</td>\n",
              "      <td>0.72</td>\n",
              "      <td>0.04</td>\n",
              "      <td>0.0</td>\n",
              "      <td>0.01</td>\n",
              "      <td>0.77</td>\n",
              "    </tr>\n",
              "  </tbody>\n",
              "</table>\n",
              "</div>\n",
              "      <button class=\"colab-df-convert\" onclick=\"convertToInteractive('df-657c524d-a6b1-4f58-9df9-617db470f303')\"\n",
              "              title=\"Convert this dataframe to an interactive table.\"\n",
              "              style=\"display:none;\">\n",
              "        \n",
              "  <svg xmlns=\"http://www.w3.org/2000/svg\" height=\"24px\"viewBox=\"0 0 24 24\"\n",
              "       width=\"24px\">\n",
              "    <path d=\"M0 0h24v24H0V0z\" fill=\"none\"/>\n",
              "    <path d=\"M18.56 5.44l.94 2.06.94-2.06 2.06-.94-2.06-.94-.94-2.06-.94 2.06-2.06.94zm-11 1L8.5 8.5l.94-2.06 2.06-.94-2.06-.94L8.5 2.5l-.94 2.06-2.06.94zm10 10l.94 2.06.94-2.06 2.06-.94-2.06-.94-.94-2.06-.94 2.06-2.06.94z\"/><path d=\"M17.41 7.96l-1.37-1.37c-.4-.4-.92-.59-1.43-.59-.52 0-1.04.2-1.43.59L10.3 9.45l-7.72 7.72c-.78.78-.78 2.05 0 2.83L4 21.41c.39.39.9.59 1.41.59.51 0 1.02-.2 1.41-.59l7.78-7.78 2.81-2.81c.8-.78.8-2.07 0-2.86zM5.41 20L4 18.59l7.72-7.72 1.47 1.35L5.41 20z\"/>\n",
              "  </svg>\n",
              "      </button>\n",
              "      \n",
              "  <style>\n",
              "    .colab-df-container {\n",
              "      display:flex;\n",
              "      flex-wrap:wrap;\n",
              "      gap: 12px;\n",
              "    }\n",
              "\n",
              "    .colab-df-convert {\n",
              "      background-color: #E8F0FE;\n",
              "      border: none;\n",
              "      border-radius: 50%;\n",
              "      cursor: pointer;\n",
              "      display: none;\n",
              "      fill: #1967D2;\n",
              "      height: 32px;\n",
              "      padding: 0 0 0 0;\n",
              "      width: 32px;\n",
              "    }\n",
              "\n",
              "    .colab-df-convert:hover {\n",
              "      background-color: #E2EBFA;\n",
              "      box-shadow: 0px 1px 2px rgba(60, 64, 67, 0.3), 0px 1px 3px 1px rgba(60, 64, 67, 0.15);\n",
              "      fill: #174EA6;\n",
              "    }\n",
              "\n",
              "    [theme=dark] .colab-df-convert {\n",
              "      background-color: #3B4455;\n",
              "      fill: #D2E3FC;\n",
              "    }\n",
              "\n",
              "    [theme=dark] .colab-df-convert:hover {\n",
              "      background-color: #434B5C;\n",
              "      box-shadow: 0px 1px 3px 1px rgba(0, 0, 0, 0.15);\n",
              "      filter: drop-shadow(0px 1px 2px rgba(0, 0, 0, 0.3));\n",
              "      fill: #FFFFFF;\n",
              "    }\n",
              "  </style>\n",
              "\n",
              "      <script>\n",
              "        const buttonEl =\n",
              "          document.querySelector('#df-657c524d-a6b1-4f58-9df9-617db470f303 button.colab-df-convert');\n",
              "        buttonEl.style.display =\n",
              "          google.colab.kernel.accessAllowed ? 'block' : 'none';\n",
              "\n",
              "        async function convertToInteractive(key) {\n",
              "          const element = document.querySelector('#df-657c524d-a6b1-4f58-9df9-617db470f303');\n",
              "          const dataTable =\n",
              "            await google.colab.kernel.invokeFunction('convertToInteractive',\n",
              "                                                     [key], {});\n",
              "          if (!dataTable) return;\n",
              "\n",
              "          const docLinkHtml = 'Like what you see? Visit the ' +\n",
              "            '<a target=\"_blank\" href=https://colab.research.google.com/notebooks/data_table.ipynb>data table notebook</a>'\n",
              "            + ' to learn more about interactive tables.';\n",
              "          element.innerHTML = '';\n",
              "          dataTable['output_type'] = 'display_data';\n",
              "          await google.colab.output.renderOutput(dataTable, element);\n",
              "          const docLink = document.createElement('div');\n",
              "          docLink.innerHTML = docLinkHtml;\n",
              "          element.appendChild(docLink);\n",
              "        }\n",
              "      </script>\n",
              "    </div>\n",
              "  </div>\n",
              "  "
            ]
          },
          "metadata": {},
          "execution_count": 2
        }
      ]
    },
    {
      "cell_type": "code",
      "source": [
        "# 1) Qual foi o jogo mais vendido no mundo em 2010?\n",
        "year_2010 = data.query('Year == 2010')\n",
        "max_sale = year_2010['Global_Sales'].max()\n",
        "res = year_2010.query(f'Global_Sales == {max_sale}')\n",
        "\n",
        "display(res)\n",
        "print('*'*130)\n",
        "print(f\"O jogo mais vendido no ano de 2010 foi: {res['Name']}\")\n",
        "print('*'*130)"
      ],
      "metadata": {
        "colab": {
          "base_uri": "https://localhost:8080/",
          "height": 150
        },
        "id": "1qPRhzfz9gxM",
        "outputId": "51891346-a1b2-457e-f8fe-ea53e76c0d40"
      },
      "execution_count": 3,
      "outputs": [
        {
          "output_type": "display_data",
          "data": {
            "text/plain": [
              "       Rank                Name Platform  Year Genre               Publisher  \\\n",
              "11183    16  Kinect Adventures!     X360  2010  Misc  Microsoft Game Studios   \n",
              "\n",
              "       NA_Sales  EU_Sales  JP_Sales  Other_Sales  Global_Sales  \n",
              "11183     14.97      4.94      0.24         1.67         21.82  "
            ],
            "text/html": [
              "\n",
              "  <div id=\"df-83a5dcf4-1647-48c3-bd8a-ca9c7e5061a2\">\n",
              "    <div class=\"colab-df-container\">\n",
              "      <div>\n",
              "<style scoped>\n",
              "    .dataframe tbody tr th:only-of-type {\n",
              "        vertical-align: middle;\n",
              "    }\n",
              "\n",
              "    .dataframe tbody tr th {\n",
              "        vertical-align: top;\n",
              "    }\n",
              "\n",
              "    .dataframe thead th {\n",
              "        text-align: right;\n",
              "    }\n",
              "</style>\n",
              "<table border=\"1\" class=\"dataframe\">\n",
              "  <thead>\n",
              "    <tr style=\"text-align: right;\">\n",
              "      <th></th>\n",
              "      <th>Rank</th>\n",
              "      <th>Name</th>\n",
              "      <th>Platform</th>\n",
              "      <th>Year</th>\n",
              "      <th>Genre</th>\n",
              "      <th>Publisher</th>\n",
              "      <th>NA_Sales</th>\n",
              "      <th>EU_Sales</th>\n",
              "      <th>JP_Sales</th>\n",
              "      <th>Other_Sales</th>\n",
              "      <th>Global_Sales</th>\n",
              "    </tr>\n",
              "  </thead>\n",
              "  <tbody>\n",
              "    <tr>\n",
              "      <th>11183</th>\n",
              "      <td>16</td>\n",
              "      <td>Kinect Adventures!</td>\n",
              "      <td>X360</td>\n",
              "      <td>2010</td>\n",
              "      <td>Misc</td>\n",
              "      <td>Microsoft Game Studios</td>\n",
              "      <td>14.97</td>\n",
              "      <td>4.94</td>\n",
              "      <td>0.24</td>\n",
              "      <td>1.67</td>\n",
              "      <td>21.82</td>\n",
              "    </tr>\n",
              "  </tbody>\n",
              "</table>\n",
              "</div>\n",
              "      <button class=\"colab-df-convert\" onclick=\"convertToInteractive('df-83a5dcf4-1647-48c3-bd8a-ca9c7e5061a2')\"\n",
              "              title=\"Convert this dataframe to an interactive table.\"\n",
              "              style=\"display:none;\">\n",
              "        \n",
              "  <svg xmlns=\"http://www.w3.org/2000/svg\" height=\"24px\"viewBox=\"0 0 24 24\"\n",
              "       width=\"24px\">\n",
              "    <path d=\"M0 0h24v24H0V0z\" fill=\"none\"/>\n",
              "    <path d=\"M18.56 5.44l.94 2.06.94-2.06 2.06-.94-2.06-.94-.94-2.06-.94 2.06-2.06.94zm-11 1L8.5 8.5l.94-2.06 2.06-.94-2.06-.94L8.5 2.5l-.94 2.06-2.06.94zm10 10l.94 2.06.94-2.06 2.06-.94-2.06-.94-.94-2.06-.94 2.06-2.06.94z\"/><path d=\"M17.41 7.96l-1.37-1.37c-.4-.4-.92-.59-1.43-.59-.52 0-1.04.2-1.43.59L10.3 9.45l-7.72 7.72c-.78.78-.78 2.05 0 2.83L4 21.41c.39.39.9.59 1.41.59.51 0 1.02-.2 1.41-.59l7.78-7.78 2.81-2.81c.8-.78.8-2.07 0-2.86zM5.41 20L4 18.59l7.72-7.72 1.47 1.35L5.41 20z\"/>\n",
              "  </svg>\n",
              "      </button>\n",
              "      \n",
              "  <style>\n",
              "    .colab-df-container {\n",
              "      display:flex;\n",
              "      flex-wrap:wrap;\n",
              "      gap: 12px;\n",
              "    }\n",
              "\n",
              "    .colab-df-convert {\n",
              "      background-color: #E8F0FE;\n",
              "      border: none;\n",
              "      border-radius: 50%;\n",
              "      cursor: pointer;\n",
              "      display: none;\n",
              "      fill: #1967D2;\n",
              "      height: 32px;\n",
              "      padding: 0 0 0 0;\n",
              "      width: 32px;\n",
              "    }\n",
              "\n",
              "    .colab-df-convert:hover {\n",
              "      background-color: #E2EBFA;\n",
              "      box-shadow: 0px 1px 2px rgba(60, 64, 67, 0.3), 0px 1px 3px 1px rgba(60, 64, 67, 0.15);\n",
              "      fill: #174EA6;\n",
              "    }\n",
              "\n",
              "    [theme=dark] .colab-df-convert {\n",
              "      background-color: #3B4455;\n",
              "      fill: #D2E3FC;\n",
              "    }\n",
              "\n",
              "    [theme=dark] .colab-df-convert:hover {\n",
              "      background-color: #434B5C;\n",
              "      box-shadow: 0px 1px 3px 1px rgba(0, 0, 0, 0.15);\n",
              "      filter: drop-shadow(0px 1px 2px rgba(0, 0, 0, 0.3));\n",
              "      fill: #FFFFFF;\n",
              "    }\n",
              "  </style>\n",
              "\n",
              "      <script>\n",
              "        const buttonEl =\n",
              "          document.querySelector('#df-83a5dcf4-1647-48c3-bd8a-ca9c7e5061a2 button.colab-df-convert');\n",
              "        buttonEl.style.display =\n",
              "          google.colab.kernel.accessAllowed ? 'block' : 'none';\n",
              "\n",
              "        async function convertToInteractive(key) {\n",
              "          const element = document.querySelector('#df-83a5dcf4-1647-48c3-bd8a-ca9c7e5061a2');\n",
              "          const dataTable =\n",
              "            await google.colab.kernel.invokeFunction('convertToInteractive',\n",
              "                                                     [key], {});\n",
              "          if (!dataTable) return;\n",
              "\n",
              "          const docLinkHtml = 'Like what you see? Visit the ' +\n",
              "            '<a target=\"_blank\" href=https://colab.research.google.com/notebooks/data_table.ipynb>data table notebook</a>'\n",
              "            + ' to learn more about interactive tables.';\n",
              "          element.innerHTML = '';\n",
              "          dataTable['output_type'] = 'display_data';\n",
              "          await google.colab.output.renderOutput(dataTable, element);\n",
              "          const docLink = document.createElement('div');\n",
              "          docLink.innerHTML = docLinkHtml;\n",
              "          element.appendChild(docLink);\n",
              "        }\n",
              "      </script>\n",
              "    </div>\n",
              "  </div>\n",
              "  "
            ]
          },
          "metadata": {}
        },
        {
          "output_type": "stream",
          "name": "stdout",
          "text": [
            "**********************************************************************************************************************************\n",
            "O jogo mais vendido no ano de 2010 foi: 11183    Kinect Adventures!\n",
            "Name: Name, dtype: object\n",
            "**********************************************************************************************************************************\n"
          ]
        }
      ]
    },
    {
      "cell_type": "code",
      "source": [
        "# 2) Qual foi o gênero mais vendido na américa do norte em 2005.\n",
        "\n",
        "data_year_2005 = data.query('Year == 2005')\n",
        "group_data = data_year_2005.groupby(['Genre']).sum()\n",
        "group_data = group_data.sort_values(by='NA_Sales', ascending = False)\n",
        "genre_max_sale = group_data['NA_Sales'].max()\n",
        "genre_max_sale = group_data.query(f'NA_Sales == {genre_max_sale}')\n",
        "\n",
        "\n",
        "print(genre_max_sale.iloc[0].name)"
      ],
      "metadata": {
        "id": "tmLvOjNt-e1A",
        "colab": {
          "base_uri": "https://localhost:8080/"
        },
        "outputId": "a2d19749-33b6-4c7d-cd94-ade30961318d"
      },
      "execution_count": 4,
      "outputs": [
        {
          "output_type": "stream",
          "name": "stdout",
          "text": [
            "Action\n"
          ]
        }
      ]
    },
    {
      "cell_type": "code",
      "source": [
        "# 3) Qual foi a empresa que mais vendeu de 2005 até 2016.\n",
        "\n",
        "range = data.query('2005 <= Year <= 2016')\n",
        "group_business = range.groupby(by='Publisher').sum()\n",
        "business = group_business['Global_Sales'].max()\n",
        "most_sold = group_business.query(f'Global_Sales == {business}')\n",
        "\n",
        "\n",
        "display(most_sold.iloc[0].name)"
      ],
      "metadata": {
        "id": "9QhNI2rQSz1w",
        "colab": {
          "base_uri": "https://localhost:8080/",
          "height": 35
        },
        "outputId": "ea1cf9d8-f201-409d-ef2e-454c1bd1bba4"
      },
      "execution_count": 5,
      "outputs": [
        {
          "output_type": "display_data",
          "data": {
            "text/plain": [
              "'Nintendo'"
            ],
            "application/vnd.google.colaboratory.intrinsic+json": {
              "type": "string"
            }
          },
          "metadata": {}
        }
      ]
    },
    {
      "cell_type": "code",
      "source": [
        "# 4) Qual o nome do jogo que menos foi vendido em 2008 do gênero Sports.\n",
        "\n",
        "year_and_genre = data.query('Year == 2008 & Genre == \"Sports\"')\n",
        "group_name = year_and_genre.groupby('Name').sum()\n",
        "less_sold = year_and_genre['Global_Sales'].min()\n",
        "less_sold = year_and_genre.query(f'Global_Sales == {less_sold}')\n",
        "\n",
        "print(less_sold['Name'])"
      ],
      "metadata": {
        "id": "25yCrLUDS50U",
        "colab": {
          "base_uri": "https://localhost:8080/"
        },
        "outputId": "73e3822f-e626-4d3e-d9a4-7dcd3e84b06a"
      },
      "execution_count": 6,
      "outputs": [
        {
          "output_type": "stream",
          "name": "stdout",
          "text": [
            "9691                  Winning Post 7 Maximum 2008\n",
            "9692                                 Fab 5 Soccer\n",
            "9694    Major Dream: Major Wii Nagero! Gyroball!!\n",
            "9696                  Winning Post 7 Maximum 2008\n",
            "9705                                Family Jockey\n",
            "9715                             G1 Jockey 4 2008\n",
            "9731                             Summer Athletics\n",
            "Name: Name, dtype: object\n"
          ]
        }
      ]
    },
    {
      "cell_type": "code",
      "source": [
        "# 5) Mostre um gráfico com o total de vendas por ano.\n",
        "group_year = data.groupby(by= 'Year').sum()\n",
        "\n",
        "group_year['Global_Sales'].plot(figsize=(12,7), marker='.', grid=True, linestyle = 'solid', color = 'b', title='GRÁFICO DO TOTAL DAS VENDAS ANUAIS (mi)', xlabel=\"Anos\", ylabel='Valor em Milhões')\n"
      ],
      "metadata": {
        "id": "2L6rapXmS-4o",
        "colab": {
          "base_uri": "https://localhost:8080/",
          "height": 475
        },
        "outputId": "f10275b4-a699-410f-8810-fc591704f4d4"
      },
      "execution_count": 7,
      "outputs": [
        {
          "output_type": "execute_result",
          "data": {
            "text/plain": [
              "<matplotlib.axes._subplots.AxesSubplot at 0x7ffa0214f5d0>"
            ]
          },
          "metadata": {},
          "execution_count": 7
        },
        {
          "output_type": "display_data",
          "data": {
            "text/plain": [
              "<Figure size 864x504 with 1 Axes>"
            ],
            "image/png": "[encoded data removed]"
          },
          "metadata": {
            "needs_background": "light"
          }
        }
      ]
    },
    {
      "cell_type": "code",
      "source": [
        "# 6) Qual foi o ano com mais lançamentos de jogos?\n",
        "\n",
        "wich_releases = data.groupby('Year').count().sort_values('Rank', ascending=False)\n",
        "wich_releases = wich_releases.filter(['Year', \"Name\"])\n",
        "\n",
        "print('*'*50)\n",
        "print('RESPOSTA:')\n",
        "display(wich_releases.iloc[0].name)\n",
        "print('*'*50)\n",
        "wich_releases['Name'].plot.bar(figsize=(12,7))\n"
      ],
      "metadata": {
        "id": "pz3tL5yPqnkM",
        "outputId": "4706f432-0ce7-488d-8b5c-2c50bdccb879",
        "colab": {
          "base_uri": "https://localhost:8080/",
          "height": 545
        }
      },
      "execution_count": 148,
      "outputs": [
        {
          "output_type": "stream",
          "name": "stdout",
          "text": [
            "**************************************************\n",
            "RESPOSTA:\n"
          ]
        },
        {
          "output_type": "display_data",
          "data": {
            "text/plain": [
              "2009"
            ]
          },
          "metadata": {}
        },
        {
          "output_type": "stream",
          "name": "stdout",
          "text": [
            "**************************************************\n"
          ]
        },
        {
          "output_type": "execute_result",
          "data": {
            "text/plain": [
              "<matplotlib.axes._subplots.AxesSubplot at 0x7ff9f327c090>"
            ]
          },
          "metadata": {},
          "execution_count": 148
        },
        {
          "output_type": "display_data",
          "data": {
            "text/plain": [
              "<Figure size 864x504 with 1 Axes>"
            ],
            "image/png": "[encoded data removed]"
          },
          "metadata": {
            "needs_background": "light"
          }
        }
      ]
    },
    {
      "cell_type": "code",
      "source": [
        "# 7) Qual a plataforma que menos lançou jogos?\n",
        "\n",
        "less = data.groupby('Platform').count().sort_values('Rank', ascending=False)\n",
        "\n",
        "display(less.iloc[0].name)"
      ],
      "metadata": {
        "id": "-4EGsbWV-0PL",
        "outputId": "0660be8f-7987-4fbd-ef22-3e15604b662b",
        "colab": {
          "base_uri": "https://localhost:8080/",
          "height": 35
        }
      },
      "execution_count": 164,
      "outputs": [
        {
          "output_type": "display_data",
          "data": {
            "text/plain": [
              "'DS'"
            ],
            "application/vnd.google.colaboratory.intrinsic+json": {
              "type": "string"
            }
          },
          "metadata": {}
        }
      ]
    },
    {
      "cell_type": "code",
      "source": [
        "# 8) Qual plataforma que mais gerou lucros com jogos do gênero Action desde 2009?\n",
        "\n",
        "new_data = data.query('Genre == \"Action\" & Year >= 2009')\n",
        "group_platform = new_data.groupby('Platform').sum('Global_Sales')\n",
        "max_sales = group_platform['Global_Sales'].max()\n",
        "max_profit = group_platform.query(f'Global_Sales == {max_sales}')\n",
        "\n",
        "print(max_profit.iloc[0].name)"
      ],
      "metadata": {
        "id": "LrnJXmOgDo17",
        "outputId": "a8f01ab0-9f0f-4a50-bc51-9a0af6847ee2",
        "colab": {
          "base_uri": "https://localhost:8080/"
        }
      },
      "execution_count": null,
      "outputs": [
        {
          "output_type": "stream",
          "name": "stdout",
          "text": [
            "PS3\n"
          ]
        }
      ]
    },
    {
      "cell_type": "code",
      "source": [
        "# 9) Qual empresa teve o maior lucro (sob o teto de 0.35 milhões) de 1980 até 1995, excluindo-se a plataforma SNES.\n",
        "\n",
        "higher_profit = data.query('Platform != \"SNES\" & Year <= 1995')\n",
        "higher_profit_sum = higher_profit.groupby('Publisher').sum()\n",
        "higher_profit_035 = higher_profit_sum.query('Global_Sales <= 0.35')\n",
        "higher_profit_sort = higher_profit_035.sort_values('Global_Sales', ascending=False)\n",
        "\n",
        "display(higher_profit_sort.iloc[0].name)"
      ],
      "metadata": {
        "id": "cXbi1GVRDqSs",
        "outputId": "45056411-7ded-4316-d99c-6bcfc543e568",
        "colab": {
          "base_uri": "https://localhost:8080/",
          "height": 35
        }
      },
      "execution_count": 263,
      "outputs": [
        {
          "output_type": "display_data",
          "data": {
            "text/plain": [
              "'ITT Family Games'"
            ],
            "application/vnd.google.colaboratory.intrinsic+json": {
              "type": "string"
            }
          },
          "metadata": {}
        }
      ]
    },
    {
      "cell_type": "code",
      "source": [
        "# 10)A empresa que mais lucrou no Japão em 2003 é a mesma que mais lucrou na europa nesse mesmo ano?"
      ],
      "metadata": {
        "id": "3NzHJqVlDqaT"
      },
      "execution_count": null,
      "outputs": []
    },
    {
      "cell_type": "code",
      "source": [
        "# 11)Qual o percentual relacionado às vendas globais de jogos de Wii (excluindo-se América do norte, japão e europa) de 2006 até 2010?"
      ],
      "metadata": {
        "id": "GfXLes4sDqd8"
      },
      "execution_count": null,
      "outputs": []
    },
    {
      "cell_type": "code",
      "source": [
        "# 12)Mostre um gráfico de linhas com as vendas em diferentes plataformas ao longo dos anos."
      ],
      "metadata": {
        "id": "M3IppFAhDqhN"
      },
      "execution_count": null,
      "outputs": []
    },
    {
      "cell_type": "code",
      "source": [
        "# 13)Mostre um gráfico de pizza com o percentual de vendas dos diferentes gêneros de jogos."
      ],
      "metadata": {
        "id": "xV3zpakNDx05"
      },
      "execution_count": null,
      "outputs": []
    }
  ]
}